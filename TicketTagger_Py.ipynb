{
 "cells": [
  {
   "cell_type": "code",
   "execution_count": 1,
   "id": "e5ff92ac",
   "metadata": {},
   "outputs": [],
   "source": [
    "import fasttext\n"
   ]
  },
  {
   "cell_type": "code",
   "execution_count": 4,
   "id": "e05cc82d",
   "metadata": {},
   "outputs": [],
   "source": [
    "localPath_train='/Users/eiv/Desktop/SWProject/train.txt'\n",
    "model = fasttext.train_supervised(localPath_train)\n",
    "\n"
   ]
  },
  {
   "cell_type": "code",
   "execution_count": 5,
   "id": "54302435",
   "metadata": {},
   "outputs": [
    {
     "name": "stdout",
     "output_type": "stream",
     "text": [
      "{'__label__enhancement': {'precision': 0.7546728971962616, 'recall': 0.6358267716535433, 'f1score': 0.6901709401709402}, '__label__bug': {'precision': 0.6750465549348231, 'recall': 0.7257257257257257, 'f1score': 0.6994693680656054}, '__label__question': {'precision': 0.6822519083969466, 'recall': 0.7424714434060229, 'f1score': 0.7110890104425659}}\n"
     ]
    }
   ],
   "source": [
    "localPath_test ='/Users/afrah/Desktop/SWProject/test.txt'\n",
    "result = model.test_label(localPath_test)\n",
    "print(result)"
   ]
  },
  {
   "cell_type": "code",
   "execution_count": 6,
   "id": "b03f50ec",
   "metadata": {},
   "outputs": [
    {
     "name": "stdout",
     "output_type": "stream",
     "text": [
      "N\t2978\n",
      "P@1\t0.700\n",
      "R@1\t0.700\n"
     ]
    }
   ],
   "source": [
    "def print_results(N, p, r):\n",
    "    print(\"N\\t\" + str(N))\n",
    "    print(\"P@{}\\t{:.3f}\".format(1, p))\n",
    "    print(\"R@{}\\t{:.3f}\".format(1, r))\n",
    "\n",
    "print_results(*model.test('/Users/eiv/Desktop/SWProject/test.txt'))"
   ]
  },
  {
   "cell_type": "code",
   "execution_count": 7,
   "id": "210a16f3",
   "metadata": {},
   "outputs": [
    {
     "data": {
      "text/plain": [
       "(('__label__question',), array([0.90163404]))"
      ]
     },
     "execution_count": 7,
     "metadata": {},
     "output_type": "execute_result"
    }
   ],
   "source": [
    "model.predict(\"Which baking dish is best to bake a banana bread ?\")"
   ]
  },
  {
   "cell_type": "code",
   "execution_count": 8,
   "id": "268c6cea",
   "metadata": {},
   "outputs": [
    {
     "data": {
      "text/plain": [
       "(('__label__bug',), array([0.99831331]))"
      ]
     },
     "execution_count": 8,
     "metadata": {},
     "output_type": "execute_result"
    }
   ],
   "source": [
    "model.predict(\"i got result not valid\")"
   ]
  },
  {
   "cell_type": "code",
   "execution_count": null,
   "id": "5c51259a",
   "metadata": {},
   "outputs": [],
   "source": []
  }
 ],
 "metadata": {
  "kernelspec": {
   "display_name": "Python 3",
   "language": "python",
   "name": "python3"
  },
  "language_info": {
   "codemirror_mode": {
    "name": "ipython",
    "version": 3
   },
   "file_extension": ".py",
   "mimetype": "text/x-python",
   "name": "python",
   "nbconvert_exporter": "python",
   "pygments_lexer": "ipython3",
   "version": "3.8.8"
  }
 },
 "nbformat": 4,
 "nbformat_minor": 5
}
